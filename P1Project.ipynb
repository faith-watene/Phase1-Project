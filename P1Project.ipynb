{
 "cells": [
  {
   "cell_type": "markdown",
   "id": "638c3aa2-ed00-4621-8269-0ee58c6d3f69",
   "metadata": {},
   "source": [
    "# Introduction"
   ]
  },
  {
   "cell_type": "markdown",
   "id": "56121272-e8e5-4634-88f4-453e5c950335",
   "metadata": {},
   "source": [
    "This notebook will be handling data cleaning, imputation, analysis and visualisations to get insights for a business stakeholder"
   ]
  },
  {
   "cell_type": "markdown",
   "id": "a7287eb0-e46d-4728-bd18-251a1e850b5a",
   "metadata": {},
   "source": [
    "# Business Understanding"
   ]
  },
  {
   "cell_type": "markdown",
   "id": "76b89c62-25da-45a3-99c4-9163404097ae",
   "metadata": {},
   "source": [
    "A company is looking into new industries to help diversify their portfolio. They are interested in purchasing and operating airplanes for commercial and private enterprises. Given they are unaware of the risks that come with this business, we will look into an aircraft with the lowest risks to ensure the business runs well. Our findings will be translated into information that will help the head of department make the right decisions."
   ]
  },
  {
   "cell_type": "markdown",
   "id": "67270425-e669-4fee-86ae-4bc64bc3eb57",
   "metadata": {},
   "source": [
    "***Main Objectives***"
   ]
  },
  {
   "cell_type": "markdown",
   "id": "79f11025-bfbb-4ba8-a024-237e46592a02",
   "metadata": {},
   "source": [
    "* Get an aircraft with low risk to ensure effective running of the new business\n"
   ]
  },
  {
   "cell_type": "markdown",
   "id": "90dfebca-0210-47c7-8ba4-5bdb95f67b37",
   "metadata": {},
   "source": [
    "***Specific Objectives***"
   ]
  },
  {
   "cell_type": "markdown",
   "id": "8d0c55aa-c23e-4c5c-9ff0-dda69a13a60c",
   "metadata": {},
   "source": [
    "* Open and inspect contents of the data using pandas\n",
    "* Identify and handle missing values\n",
    "* Identify and handle invalid values\n",
    "* Clean the data\n",
    "* Give conclusion and recommendations"
   ]
  },
  {
   "cell_type": "markdown",
   "id": "63f29b93-27a7-4fd4-92be-01b8c1522fae",
   "metadata": {},
   "source": [
    "# Data Understanding"
   ]
  },
  {
   "cell_type": "markdown",
   "id": "a32cecf9-b3a2-4749-902b-664741267c9a",
   "metadata": {},
   "source": [
    "The Data used is from the National Transport Safety Board."
   ]
  },
  {
   "cell_type": "markdown",
   "id": "1a3b5c65-4ea9-48ed-a664-210035b0d403",
   "metadata": {},
   "source": [
    "***Attributes***"
   ]
  },
  {
   "cell_type": "markdown",
   "id": "9519866d-742b-4ad3-aeee-34dfc894cd50",
   "metadata": {},
   "source": [
    "* Aviation Accident data from 1962 to 2023 about civil aviation accidents\n",
    "* Selected incidents in the United States and international waters."
   ]
  },
  {
   "cell_type": "markdown",
   "id": "c9e4ccc6-8066-44bb-8f8f-020b0b515734",
   "metadata": {},
   "source": [
    "# Data Importation"
   ]
  },
  {
   "cell_type": "markdown",
   "id": "5f4b25a1-615a-4aeb-8bca-5393e1182b59",
   "metadata": {},
   "source": [
    "Load both data sets to the notebook"
   ]
  },
  {
   "cell_type": "code",
   "execution_count": 1,
   "id": "bf72e217-948b-46ea-a190-aa07b7170bb4",
   "metadata": {},
   "outputs": [],
   "source": [
    "#Import the data from the source\n",
    "import pandas as pd\n",
    "import numpy as np\n",
    "import seaborn as sns\n",
    "import matplotlib.pyplot as plt\n",
    "\n",
    "%matplotlib inline"
   ]
  },
  {
   "cell_type": "code",
   "execution_count": 2,
   "id": "365ac553-a269-4849-bda7-d947d59fb731",
   "metadata": {},
   "outputs": [
    {
     "data": {
      "text/html": [
       "<div>\n",
       "<style scoped>\n",
       "    .dataframe tbody tr th:only-of-type {\n",
       "        vertical-align: middle;\n",
       "    }\n",
       "\n",
       "    .dataframe tbody tr th {\n",
       "        vertical-align: top;\n",
       "    }\n",
       "\n",
       "    .dataframe thead th {\n",
       "        text-align: right;\n",
       "    }\n",
       "</style>\n",
       "<table border=\"1\" class=\"dataframe\">\n",
       "  <thead>\n",
       "    <tr style=\"text-align: right;\">\n",
       "      <th></th>\n",
       "      <th>Event.Date</th>\n",
       "      <th>Location</th>\n",
       "      <th>Injury.Severity</th>\n",
       "      <th>Aircraft.damage</th>\n",
       "      <th>Make</th>\n",
       "      <th>Model</th>\n",
       "      <th>Number.of.Engines</th>\n",
       "      <th>Purpose.of.flight</th>\n",
       "      <th>Total.Fatal.Injuries</th>\n",
       "      <th>Total.Serious.Injuries</th>\n",
       "      <th>Total.Minor.Injuries</th>\n",
       "      <th>Total.Uninjured</th>\n",
       "      <th>Weather.Condition</th>\n",
       "      <th>Report.Status</th>\n",
       "    </tr>\n",
       "  </thead>\n",
       "  <tbody>\n",
       "    <tr>\n",
       "      <th>0</th>\n",
       "      <td>1948-10-24</td>\n",
       "      <td>MOOSE CREEK, ID</td>\n",
       "      <td>Fatal(2)</td>\n",
       "      <td>Destroyed</td>\n",
       "      <td>Stinson</td>\n",
       "      <td>108-3</td>\n",
       "      <td>1.0</td>\n",
       "      <td>Personal</td>\n",
       "      <td>2.0</td>\n",
       "      <td>0.0</td>\n",
       "      <td>0.0</td>\n",
       "      <td>0.0</td>\n",
       "      <td>UNK</td>\n",
       "      <td>Probable Cause</td>\n",
       "    </tr>\n",
       "    <tr>\n",
       "      <th>1</th>\n",
       "      <td>1962-07-19</td>\n",
       "      <td>BRIDGEPORT, CA</td>\n",
       "      <td>Fatal(4)</td>\n",
       "      <td>Destroyed</td>\n",
       "      <td>Piper</td>\n",
       "      <td>PA24-180</td>\n",
       "      <td>1.0</td>\n",
       "      <td>Personal</td>\n",
       "      <td>4.0</td>\n",
       "      <td>0.0</td>\n",
       "      <td>0.0</td>\n",
       "      <td>0.0</td>\n",
       "      <td>UNK</td>\n",
       "      <td>Probable Cause</td>\n",
       "    </tr>\n",
       "    <tr>\n",
       "      <th>2</th>\n",
       "      <td>1974-08-30</td>\n",
       "      <td>Saltville, VA</td>\n",
       "      <td>Fatal(3)</td>\n",
       "      <td>Destroyed</td>\n",
       "      <td>Cessna</td>\n",
       "      <td>172M</td>\n",
       "      <td>1.0</td>\n",
       "      <td>Personal</td>\n",
       "      <td>3.0</td>\n",
       "      <td>NaN</td>\n",
       "      <td>NaN</td>\n",
       "      <td>NaN</td>\n",
       "      <td>IMC</td>\n",
       "      <td>Probable Cause</td>\n",
       "    </tr>\n",
       "    <tr>\n",
       "      <th>3</th>\n",
       "      <td>1977-06-19</td>\n",
       "      <td>EUREKA, CA</td>\n",
       "      <td>Fatal(2)</td>\n",
       "      <td>Destroyed</td>\n",
       "      <td>Rockwell</td>\n",
       "      <td>112</td>\n",
       "      <td>1.0</td>\n",
       "      <td>Personal</td>\n",
       "      <td>2.0</td>\n",
       "      <td>0.0</td>\n",
       "      <td>0.0</td>\n",
       "      <td>0.0</td>\n",
       "      <td>IMC</td>\n",
       "      <td>Probable Cause</td>\n",
       "    </tr>\n",
       "    <tr>\n",
       "      <th>4</th>\n",
       "      <td>1979-08-02</td>\n",
       "      <td>Canton, OH</td>\n",
       "      <td>Fatal(1)</td>\n",
       "      <td>Destroyed</td>\n",
       "      <td>Cessna</td>\n",
       "      <td>501</td>\n",
       "      <td>NaN</td>\n",
       "      <td>Personal</td>\n",
       "      <td>1.0</td>\n",
       "      <td>2.0</td>\n",
       "      <td>NaN</td>\n",
       "      <td>0.0</td>\n",
       "      <td>VMC</td>\n",
       "      <td>Probable Cause</td>\n",
       "    </tr>\n",
       "  </tbody>\n",
       "</table>\n",
       "</div>"
      ],
      "text/plain": [
       "   Event.Date         Location Injury.Severity Aircraft.damage      Make  \\\n",
       "0  1948-10-24  MOOSE CREEK, ID        Fatal(2)       Destroyed   Stinson   \n",
       "1  1962-07-19   BRIDGEPORT, CA        Fatal(4)       Destroyed     Piper   \n",
       "2  1974-08-30    Saltville, VA        Fatal(3)       Destroyed    Cessna   \n",
       "3  1977-06-19       EUREKA, CA        Fatal(2)       Destroyed  Rockwell   \n",
       "4  1979-08-02       Canton, OH        Fatal(1)       Destroyed    Cessna   \n",
       "\n",
       "      Model  Number.of.Engines Purpose.of.flight  Total.Fatal.Injuries  \\\n",
       "0     108-3                1.0          Personal                   2.0   \n",
       "1  PA24-180                1.0          Personal                   4.0   \n",
       "2      172M                1.0          Personal                   3.0   \n",
       "3       112                1.0          Personal                   2.0   \n",
       "4       501                NaN          Personal                   1.0   \n",
       "\n",
       "   Total.Serious.Injuries  Total.Minor.Injuries  Total.Uninjured  \\\n",
       "0                     0.0                   0.0              0.0   \n",
       "1                     0.0                   0.0              0.0   \n",
       "2                     NaN                   NaN              NaN   \n",
       "3                     0.0                   0.0              0.0   \n",
       "4                     2.0                   NaN              0.0   \n",
       "\n",
       "  Weather.Condition   Report.Status  \n",
       "0               UNK  Probable Cause  \n",
       "1               UNK  Probable Cause  \n",
       "2               IMC  Probable Cause  \n",
       "3               IMC  Probable Cause  \n",
       "4               VMC  Probable Cause  "
      ]
     },
     "execution_count": 2,
     "metadata": {},
     "output_type": "execute_result"
    }
   ],
   "source": [
    "import pandas as pd\n",
    "# List of columns you want to load\n",
    "columns_to_load = ['Event.Date', 'Location', 'Make', 'Model', 'Injury.Severity', 'Aircraft.damage', 'Number.of.Engines', \n",
    "                   'Weather.Condition', 'Purpose.of.flight', 'Total.Fatal.Injuries', 'Total.Serious.Injuries', 'Total.Minor.Injuries', \n",
    "                  'Total.Uninjured', 'Report.Status']\n",
    "\n",
    "# Load the data into a dataframe, specifying the columns to load\n",
    "aviation_df = pd.read_csv('AviationData.csv', usecols=columns_to_load, encoding='ISO-8859-1')\n",
    "\n",
    "# Display the first few rows of the dataframe\n",
    "aviation_df.head()\n"
   ]
  },
  {
   "cell_type": "code",
   "execution_count": 3,
   "id": "3bc22d96-5a5a-4337-8a42-ee8650de3903",
   "metadata": {},
   "outputs": [
    {
     "data": {
      "text/html": [
       "<div>\n",
       "<style scoped>\n",
       "    .dataframe tbody tr th:only-of-type {\n",
       "        vertical-align: middle;\n",
       "    }\n",
       "\n",
       "    .dataframe tbody tr th {\n",
       "        vertical-align: top;\n",
       "    }\n",
       "\n",
       "    .dataframe thead th {\n",
       "        text-align: right;\n",
       "    }\n",
       "</style>\n",
       "<table border=\"1\" class=\"dataframe\">\n",
       "  <thead>\n",
       "    <tr style=\"text-align: right;\">\n",
       "      <th></th>\n",
       "      <th>US_State</th>\n",
       "      <th>Abbreviation</th>\n",
       "    </tr>\n",
       "  </thead>\n",
       "  <tbody>\n",
       "    <tr>\n",
       "      <th>0</th>\n",
       "      <td>Alabama</td>\n",
       "      <td>AL</td>\n",
       "    </tr>\n",
       "    <tr>\n",
       "      <th>1</th>\n",
       "      <td>Alaska</td>\n",
       "      <td>AK</td>\n",
       "    </tr>\n",
       "    <tr>\n",
       "      <th>2</th>\n",
       "      <td>Arizona</td>\n",
       "      <td>AZ</td>\n",
       "    </tr>\n",
       "    <tr>\n",
       "      <th>3</th>\n",
       "      <td>Arkansas</td>\n",
       "      <td>AR</td>\n",
       "    </tr>\n",
       "    <tr>\n",
       "      <th>4</th>\n",
       "      <td>California</td>\n",
       "      <td>CA</td>\n",
       "    </tr>\n",
       "  </tbody>\n",
       "</table>\n",
       "</div>"
      ],
      "text/plain": [
       "     US_State Abbreviation\n",
       "0     Alabama           AL\n",
       "1      Alaska           AK\n",
       "2     Arizona           AZ\n",
       "3    Arkansas           AR\n",
       "4  California           CA"
      ]
     },
     "execution_count": 3,
     "metadata": {},
     "output_type": "execute_result"
    }
   ],
   "source": [
    "import pandas as pd\n",
    "#Load the second data set\n",
    "Statecodes_df= pd.read_csv('USState_Codes.csv')\n",
    "#Display the first few rows of the data frame\n",
    "Statecodes_df.head()"
   ]
  },
  {
   "cell_type": "markdown",
   "id": "35808660-cffd-4ea3-b3b9-83b902ff8189",
   "metadata": {},
   "source": [
    "# Data Wrangling"
   ]
  },
  {
   "cell_type": "markdown",
   "id": "0e19641b-8300-40d5-b8a2-cea413e53681",
   "metadata": {},
   "source": [
    " *This is the process of cleaning, transforming, and organizing raw data into a usable format for analysis\n",
    "and decision-making.*"
   ]
  },
  {
   "cell_type": "markdown",
   "id": "72e69015-61a7-41b2-ac4a-29b8cad27da5",
   "metadata": {},
   "source": [
    "We will use the following guide to ensure our data is usable.\n",
    "* Completeness- Here we check for null values\n",
    "* Consistency- Check for duplicates\n",
    "* Validity- Check that the data is valid and makes sense\n",
    "* Uniformity- Ensure the data is in good structure"
   ]
  },
  {
   "cell_type": "markdown",
   "id": "475634c3-fbd5-4b1e-8b89-f01e5746e122",
   "metadata": {},
   "source": [
    "***Exploring data***"
   ]
  },
  {
   "cell_type": "code",
   "execution_count": 4,
   "id": "d927e798-f448-4536-a6a6-8b5a3dcfe8a6",
   "metadata": {},
   "outputs": [
    {
     "name": "stdout",
     "output_type": "stream",
     "text": [
      "(88889, 14)\n"
     ]
    }
   ],
   "source": [
    "#Let's inspect the shape of the dataframe\n",
    "print(aviation_df.shape)"
   ]
  },
  {
   "cell_type": "code",
   "execution_count": 5,
   "id": "fb27cb27-3f33-4463-a2fc-da4bdff97235",
   "metadata": {},
   "outputs": [
    {
     "name": "stdout",
     "output_type": "stream",
     "text": [
      "<class 'pandas.core.frame.DataFrame'>\n",
      "RangeIndex: 88889 entries, 0 to 88888\n",
      "Data columns (total 14 columns):\n",
      " #   Column                  Non-Null Count  Dtype  \n",
      "---  ------                  --------------  -----  \n",
      " 0   Event.Date              88889 non-null  object \n",
      " 1   Location                88837 non-null  object \n",
      " 2   Injury.Severity         87889 non-null  object \n",
      " 3   Aircraft.damage         85695 non-null  object \n",
      " 4   Make                    88826 non-null  object \n",
      " 5   Model                   88797 non-null  object \n",
      " 6   Number.of.Engines       82805 non-null  float64\n",
      " 7   Purpose.of.flight       82697 non-null  object \n",
      " 8   Total.Fatal.Injuries    77488 non-null  float64\n",
      " 9   Total.Serious.Injuries  76379 non-null  float64\n",
      " 10  Total.Minor.Injuries    76956 non-null  float64\n",
      " 11  Total.Uninjured         82977 non-null  float64\n",
      " 12  Weather.Condition       84397 non-null  object \n",
      " 13  Report.Status           82505 non-null  object \n",
      "dtypes: float64(5), object(9)\n",
      "memory usage: 9.5+ MB\n"
     ]
    }
   ],
   "source": [
    "#Let's look at the data's information\n",
    "aviation_df.info()"
   ]
  },
  {
   "cell_type": "markdown",
   "id": "b7cb4c12-211c-4423-857b-a7daaa42d482",
   "metadata": {},
   "source": [
    "**Cleaning the data**\n",
    "* Completeness"
   ]
  },
  {
   "cell_type": "code",
   "execution_count": 6,
   "id": "aa694736-beea-44b9-a542-ad249add3efe",
   "metadata": {},
   "outputs": [
    {
     "name": "stdout",
     "output_type": "stream",
     "text": [
      "       Event.Date         Location Injury.Severity Aircraft.damage  \\\n",
      "0      1948-10-24  MOOSE CREEK, ID        Fatal(2)       Destroyed   \n",
      "1      1962-07-19   BRIDGEPORT, CA        Fatal(4)       Destroyed   \n",
      "3      1977-06-19       EUREKA, CA        Fatal(2)       Destroyed   \n",
      "6      1981-08-01       COTTON, MN        Fatal(4)       Destroyed   \n",
      "7      1982-01-01      PULLMAN, WA       Non-Fatal     Substantial   \n",
      "...           ...              ...             ...             ...   \n",
      "88639  2022-10-06         Iola, TX       Non-Fatal     Substantial   \n",
      "88647  2022-10-08       Dacula, GA       Non-Fatal     Substantial   \n",
      "88661  2022-10-13      Ardmore, OK       Non-Fatal     Substantial   \n",
      "88735  2022-10-29      Houston, TX           Minor     Substantial   \n",
      "88767  2022-11-09   Bridgeport, TX       Non-Fatal     Substantial   \n",
      "\n",
      "                    Make     Model  Number.of.Engines Purpose.of.flight  \\\n",
      "0                Stinson     108-3                1.0          Personal   \n",
      "1                  Piper  PA24-180                1.0          Personal   \n",
      "3               Rockwell       112                1.0          Personal   \n",
      "6                 Cessna       180                1.0          Personal   \n",
      "7                 Cessna       140                1.0          Personal   \n",
      "...                  ...       ...                ...               ...   \n",
      "88639             CESSNA       150                1.0          Personal   \n",
      "88647             CESSNA     177RG                1.0          Personal   \n",
      "88661              BEECH      B-60                2.0          Personal   \n",
      "88735  STEPHEN J HOFFMAN    MS-500                1.0              ASHO   \n",
      "88767           LUSCOMBE        8E                1.0          Personal   \n",
      "\n",
      "       Total.Fatal.Injuries  Total.Serious.Injuries  Total.Minor.Injuries  \\\n",
      "0                       2.0                     0.0                   0.0   \n",
      "1                       4.0                     0.0                   0.0   \n",
      "3                       2.0                     0.0                   0.0   \n",
      "6                       4.0                     0.0                   0.0   \n",
      "7                       0.0                     0.0                   0.0   \n",
      "...                     ...                     ...                   ...   \n",
      "88639                   0.0                     0.0                   0.0   \n",
      "88647                   0.0                     0.0                   0.0   \n",
      "88661                   0.0                     0.0                   0.0   \n",
      "88735                   0.0                     1.0                   0.0   \n",
      "88767                   0.0                     0.0                   0.0   \n",
      "\n",
      "       Total.Uninjured Weather.Condition  \\\n",
      "0                  0.0               UNK   \n",
      "1                  0.0               UNK   \n",
      "3                  0.0               IMC   \n",
      "6                  0.0               IMC   \n",
      "7                  2.0               VMC   \n",
      "...                ...               ...   \n",
      "88639              1.0               VMC   \n",
      "88647              2.0               VMC   \n",
      "88661              1.0               VMC   \n",
      "88735              0.0               VMC   \n",
      "88767              2.0               VMC   \n",
      "\n",
      "                                           Report.Status  \n",
      "0                                         Probable Cause  \n",
      "1                                         Probable Cause  \n",
      "3                                         Probable Cause  \n",
      "6                                         Probable Cause  \n",
      "7                                         Probable Cause  \n",
      "...                                                  ...  \n",
      "88639  The pilots failure to maintain control of the...  \n",
      "88647  An in-flight collision with a bird while on ap...  \n",
      "88661  The pilot did not ensure adequate clearance fr...  \n",
      "88735  The pilots failure to secure the magneto swit...  \n",
      "88767  The pilots loss of control due to a wind gust...  \n",
      "\n",
      "[63609 rows x 14 columns]\n"
     ]
    }
   ],
   "source": [
    "#Here we  check for null values\n",
    "null_values = aviation_df.dropna()\n",
    "#Print the null values for each column\n",
    "print(null_values)"
   ]
  },
  {
   "cell_type": "markdown",
   "id": "293eee1e-b7c4-4f3e-9122-5183a84fd1be",
   "metadata": {},
   "source": [
    "It is evident we have 33,405 rows with null values. Let's drop them."
   ]
  },
  {
   "cell_type": "code",
   "execution_count": 7,
   "id": "3e96016e-7d19-4023-8906-17fc836172c9",
   "metadata": {},
   "outputs": [],
   "source": [
    "#Use this code to drop the null values\n",
    "# Drop rows with all null values\n",
    "aviation_df_clean_rows = aviation_df.dropna(how='all')\n",
    "\n",
    "# Drop columns with all null values\n",
    "aviation_df_clean_columns = aviation_df.dropna(axis=1, how='all')"
   ]
  },
  {
   "cell_type": "markdown",
   "id": "7c787745-84cd-4d2c-aee4-8ff764871722",
   "metadata": {},
   "source": [
    "Let's confirm the null values have been dropped"
   ]
  },
  {
   "cell_type": "code",
   "execution_count": 8,
   "id": "4a06de08-0692-4375-83f3-72c39ae9c034",
   "metadata": {},
   "outputs": [
    {
     "name": "stdout",
     "output_type": "stream",
     "text": [
      "       Event.Date         Location Injury.Severity Aircraft.damage  \\\n",
      "0      1948-10-24  MOOSE CREEK, ID        Fatal(2)       Destroyed   \n",
      "1      1962-07-19   BRIDGEPORT, CA        Fatal(4)       Destroyed   \n",
      "3      1977-06-19       EUREKA, CA        Fatal(2)       Destroyed   \n",
      "6      1981-08-01       COTTON, MN        Fatal(4)       Destroyed   \n",
      "7      1982-01-01      PULLMAN, WA       Non-Fatal     Substantial   \n",
      "...           ...              ...             ...             ...   \n",
      "88639  2022-10-06         Iola, TX       Non-Fatal     Substantial   \n",
      "88647  2022-10-08       Dacula, GA       Non-Fatal     Substantial   \n",
      "88661  2022-10-13      Ardmore, OK       Non-Fatal     Substantial   \n",
      "88735  2022-10-29      Houston, TX           Minor     Substantial   \n",
      "88767  2022-11-09   Bridgeport, TX       Non-Fatal     Substantial   \n",
      "\n",
      "                    Make     Model  Number.of.Engines Purpose.of.flight  \\\n",
      "0                Stinson     108-3                1.0          Personal   \n",
      "1                  Piper  PA24-180                1.0          Personal   \n",
      "3               Rockwell       112                1.0          Personal   \n",
      "6                 Cessna       180                1.0          Personal   \n",
      "7                 Cessna       140                1.0          Personal   \n",
      "...                  ...       ...                ...               ...   \n",
      "88639             CESSNA       150                1.0          Personal   \n",
      "88647             CESSNA     177RG                1.0          Personal   \n",
      "88661              BEECH      B-60                2.0          Personal   \n",
      "88735  STEPHEN J HOFFMAN    MS-500                1.0              ASHO   \n",
      "88767           LUSCOMBE        8E                1.0          Personal   \n",
      "\n",
      "       Total.Fatal.Injuries  Total.Serious.Injuries  Total.Minor.Injuries  \\\n",
      "0                       2.0                     0.0                   0.0   \n",
      "1                       4.0                     0.0                   0.0   \n",
      "3                       2.0                     0.0                   0.0   \n",
      "6                       4.0                     0.0                   0.0   \n",
      "7                       0.0                     0.0                   0.0   \n",
      "...                     ...                     ...                   ...   \n",
      "88639                   0.0                     0.0                   0.0   \n",
      "88647                   0.0                     0.0                   0.0   \n",
      "88661                   0.0                     0.0                   0.0   \n",
      "88735                   0.0                     1.0                   0.0   \n",
      "88767                   0.0                     0.0                   0.0   \n",
      "\n",
      "       Total.Uninjured Weather.Condition  \\\n",
      "0                  0.0               UNK   \n",
      "1                  0.0               UNK   \n",
      "3                  0.0               IMC   \n",
      "6                  0.0               IMC   \n",
      "7                  2.0               VMC   \n",
      "...                ...               ...   \n",
      "88639              1.0               VMC   \n",
      "88647              2.0               VMC   \n",
      "88661              1.0               VMC   \n",
      "88735              0.0               VMC   \n",
      "88767              2.0               VMC   \n",
      "\n",
      "                                           Report.Status  \n",
      "0                                         Probable Cause  \n",
      "1                                         Probable Cause  \n",
      "3                                         Probable Cause  \n",
      "6                                         Probable Cause  \n",
      "7                                         Probable Cause  \n",
      "...                                                  ...  \n",
      "88639  The pilots failure to maintain control of the...  \n",
      "88647  An in-flight collision with a bird while on ap...  \n",
      "88661  The pilot did not ensure adequate clearance fr...  \n",
      "88735  The pilots failure to secure the magneto swit...  \n",
      "88767  The pilots loss of control due to a wind gust...  \n",
      "\n",
      "[63609 rows x 14 columns]\n"
     ]
    }
   ],
   "source": [
    "#Here we  check for null values\n",
    "null_values = aviation_df.dropna()\n",
    "#Print the null values for each column\n",
    "print(null_values)"
   ]
  },
  {
   "cell_type": "markdown",
   "id": "3716ab8e-d9fc-445c-af97-291afe1fc9db",
   "metadata": {},
   "source": [
    "Now that that is done, let's go ahead and check for duplicates"
   ]
  },
  {
   "cell_type": "markdown",
   "id": "7539190f-d7c5-4e57-a2ad-541025b52b86",
   "metadata": {},
   "source": [
    "* Consistency"
   ]
  },
  {
   "cell_type": "code",
   "execution_count": 9,
   "id": "6f28a2ca-62f0-4808-8c16-2247f7227259",
   "metadata": {},
   "outputs": [
    {
     "name": "stdout",
     "output_type": "stream",
     "text": [
      "       Event.Date          Location Injury.Severity Aircraft.damage  \\\n",
      "1371   1982-05-28    EVANSVILLE, IN       Non-Fatal     Substantial   \n",
      "3082   1982-10-18    GULF OF MEXICO        Fatal(3)       Destroyed   \n",
      "4761   1983-05-22    BRIDGEPORT, CA        Fatal(1)     Substantial   \n",
      "5120   1983-06-20       CHICAGO, IL        Incident           Minor   \n",
      "6512   1983-10-08        FRESNO, CA       Non-Fatal     Substantial   \n",
      "7941   1984-04-13        DELAND, FL       Non-Fatal     Substantial   \n",
      "8661   1984-06-18      PORTLAND, AR       Non-Fatal     Substantial   \n",
      "13532  1985-11-30     SAN PEDRO, CA        Fatal(1)       Destroyed   \n",
      "14421  1986-04-15      HANKAMER, TX        Fatal(2)       Destroyed   \n",
      "19820  1988-03-10    GREENSBORO, NC        Incident             NaN   \n",
      "21077  1988-08-05       ATLANTA, GA        Incident           Minor   \n",
      "22453  1989-03-01       HOUSTON, TX        Incident             NaN   \n",
      "22626  1989-03-27     MANHATTAN, NY       Non-Fatal     Substantial   \n",
      "24878  1990-02-09     TETERBORO, NJ       Non-Fatal     Substantial   \n",
      "25927  1990-07-01      FLORENCE, AL        Fatal(4)       Destroyed   \n",
      "26868  1990-10-20          KENT, OH       Non-Fatal     Substantial   \n",
      "27496  1991-03-02        MARANA, AZ       Non-Fatal     Substantial   \n",
      "27811  1991-04-19    SANTA ROSA, NM       Non-Fatal     Substantial   \n",
      "28706  1991-07-31        SILICA, KS        Fatal(2)       Destroyed   \n",
      "30247  1992-04-23       BRANSON, MO       Non-Fatal     Substantial   \n",
      "31502  1992-09-21       ORLANDO, FL       Non-Fatal     Substantial   \n",
      "33525  1993-08-12       PIONEER, LA       Non-Fatal     Substantial   \n",
      "34513  1994-02-12  GRAND CANYON, AZ       Non-Fatal     Substantial   \n",
      "34847  1994-04-10    OKEECHOBEE, FL       Non-Fatal     Substantial   \n",
      "35076  1994-05-19      STOCKTON, CA       Non-Fatal     Substantial   \n",
      "38187  1995-08-27  FORT COLLINS, CO       Non-Fatal     Substantial   \n",
      "39138  1996-02-24      Havana, Cuba        Fatal(4)       Destroyed   \n",
      "40556  1996-09-13          RENO, NV       Non-Fatal     Substantial   \n",
      "43728  1998-04-19     KISSIMMEE, FL        Fatal(2)       Destroyed   \n",
      "45738  1999-03-10  BATTLE CREEK, MI       Non-Fatal     Substantial   \n",
      "48463  2000-05-27       BUNNELL, FL        Fatal(2)       Destroyed   \n",
      "51386  2001-08-27       Hopland, CA        Fatal(2)       Destroyed   \n",
      "52842  2002-06-19     KETCHIKAN, AK       Non-Fatal     Substantial   \n",
      "56311  2004-03-05        Denver, CO        Incident           Minor   \n",
      "57380  2004-08-28      Prescott, AZ        Fatal(2)       Destroyed   \n",
      "58650  2005-05-17        Denver, CO        Incident           Minor   \n",
      "62369  2007-04-21      VAN HORN, TX       Non-Fatal     Substantial   \n",
      "63043  2007-07-27       Phoenix, AZ        Fatal(4)       Destroyed   \n",
      "63296  2007-09-02   FARMINGDALE, NY       Non-Fatal     Substantial   \n",
      "77987  2016-03-20       Cusco, Peru             NaN           Minor   \n",
      "87549  2022-03-18     Grapevine, TX       Non-Fatal     Substantial   \n",
      "88387  2022-08-20      Bealeton, VA           Minor     Substantial   \n",
      "88528  2022-09-14          Mumbai,              NaN             NaN   \n",
      "\n",
      "                                 Make            Model  Number.of.Engines  \\\n",
      "1371                           Cessna              172                1.0   \n",
      "3082                             Bell             206B                1.0   \n",
      "4761                    Schempp-hirth  STANDARD CIRRUS                NaN   \n",
      "5120                           Boeing            B-747                4.0   \n",
      "6512                   North American            SNJ-2                1.0   \n",
      "7941                           Cessna             172P                1.0   \n",
      "8661                             Snow            AT400                1.0   \n",
      "13532                            Bell           206L-1                1.0   \n",
      "14421                         Grumman            G164A                1.0   \n",
      "19820                          Boeing              737                2.0   \n",
      "21077                         Douglas          DC-9-51                2.0   \n",
      "22453               Mcdonnell Douglas          DC-9-82                2.0   \n",
      "22626                        Sikorsky            S-76A                2.0   \n",
      "24878                      Mitsubishi         MU-2B-35                2.0   \n",
      "25927                           Piper        PA-38-112                1.0   \n",
      "26868                          Cessna              152                1.0   \n",
      "27496                          Boeing              A75                1.0   \n",
      "27811  Ercoupe (eng & Research Corp.)            415-C                1.0   \n",
      "28706                  Aero Commander             500B                2.0   \n",
      "30247                          Cessna              152                1.0   \n",
      "31502                          Cessna             210L                1.0   \n",
      "33525                         Grumman           G-164B                1.0   \n",
      "34513                          Cessna             402C                2.0   \n",
      "34847                           Globe            9C-1B                1.0   \n",
      "35076                        Robinson            R22-B                1.0   \n",
      "38187                           Piper        PA-28-181                1.0   \n",
      "39138                          Cessna              337                NaN   \n",
      "40556                           Pitts             S-1S                1.0   \n",
      "43728                          Boeing           A-75N1                1.0   \n",
      "45738                          Cessna             172R                1.0   \n",
      "48463             Avions Mudry Et Cie          CAP 10B                1.0   \n",
      "51386                         Grumman            TS-2A                2.0   \n",
      "52842                    De Havilland        DHC-6-300                2.0   \n",
      "56311                Airbus Industrie         A320-232                2.0   \n",
      "57380        American Champion (acac)            8KCAB                1.0   \n",
      "58650                          Boeing          737-322                2.0   \n",
      "62369                        Robinson         R22 Beta                1.0   \n",
      "63043                      Eurocopter         AS350-B2                1.0   \n",
      "63296                  North American            SNJ-2                1.0   \n",
      "77987                          BOEING              737                NaN   \n",
      "87549                          CESSNA             208B                1.0   \n",
      "88387                          BOEING            A75N1                1.0   \n",
      "88528                          BOEING              787                NaN   \n",
      "\n",
      "         Purpose.of.flight  Total.Fatal.Injuries  Total.Serious.Injuries  \\\n",
      "1371              Personal                   0.0                     0.0   \n",
      "3082               Unknown                   3.0                     0.0   \n",
      "4761               Unknown                   1.0                     0.0   \n",
      "5120               Unknown                   0.0                     0.0   \n",
      "6512              Business                   0.0                     0.0   \n",
      "7941         Instructional                   0.0                     0.0   \n",
      "8661    Aerial Application                   0.0                     0.0   \n",
      "13532              Unknown                   1.0                     4.0   \n",
      "14421   Aerial Application                   2.0                     NaN   \n",
      "19820              Unknown                   0.0                     0.0   \n",
      "21077              Unknown                   0.0                     0.0   \n",
      "22453              Unknown                   0.0                     0.0   \n",
      "22626  Executive/corporate                   0.0                     0.0   \n",
      "24878              Unknown                   0.0                     0.0   \n",
      "25927        Instructional                   4.0                     0.0   \n",
      "26868        Instructional                   0.0                     0.0   \n",
      "27496       Other Work Use                   0.0                     0.0   \n",
      "27811             Personal                   0.0                     0.0   \n",
      "28706              Unknown                   2.0                     0.0   \n",
      "30247             Personal                   0.0                     1.0   \n",
      "31502              Unknown                   0.0                     0.0   \n",
      "33525   Aerial Application                   0.0                     0.0   \n",
      "34513          Positioning                   0.0                     0.0   \n",
      "34847              Unknown                   0.0                     0.0   \n",
      "35076       Other Work Use                   0.0                     0.0   \n",
      "38187             Personal                   0.0                     0.0   \n",
      "39138       Other Work Use                   4.0                     NaN   \n",
      "40556              Unknown                   0.0                     0.0   \n",
      "43728              Unknown                   2.0                     0.0   \n",
      "45738        Instructional                   0.0                     0.0   \n",
      "48463              Unknown                   2.0                     0.0   \n",
      "51386      Public Aircraft                   2.0                     NaN   \n",
      "52842                  NaN                   NaN                     NaN   \n",
      "56311                  NaN                   NaN                     NaN   \n",
      "57380             Personal                   2.0                     NaN   \n",
      "58650                  NaN                   NaN                     NaN   \n",
      "62369        Instructional                   NaN                     NaN   \n",
      "63043       Other Work Use                   4.0                     NaN   \n",
      "63296       Other Work Use                   NaN                     NaN   \n",
      "77987                  NaN                   0.0                     0.0   \n",
      "87549             Business                   0.0                     0.0   \n",
      "88387             Business                   0.0                     2.0   \n",
      "88528                  NaN                   0.0                     0.0   \n",
      "\n",
      "       Total.Minor.Injuries  Total.Uninjured Weather.Condition  \\\n",
      "1371                    0.0              7.0               VMC   \n",
      "3082                    0.0              0.0               VMC   \n",
      "4761                    0.0              1.0               VMC   \n",
      "5120                    0.0            440.0               VMC   \n",
      "6512                    0.0              2.0               VMC   \n",
      "7941                    0.0              2.0               VMC   \n",
      "8661                    0.0              2.0               VMC   \n",
      "13532                   7.0              0.0               VMC   \n",
      "14421                   NaN              NaN               VMC   \n",
      "19820                   0.0            159.0               VMC   \n",
      "21077                   0.0            199.0               UNK   \n",
      "22453                   0.0            185.0               IMC   \n",
      "22626                   0.0              4.0               VMC   \n",
      "24878                   0.0              2.0               VMC   \n",
      "25927                   0.0              0.0               VMC   \n",
      "26868                   0.0              2.0               VMC   \n",
      "27496                   0.0              3.0               VMC   \n",
      "27811                   1.0              1.0               VMC   \n",
      "28706                   0.0              0.0               VMC   \n",
      "30247                   1.0              2.0               VMC   \n",
      "31502                   0.0              1.0               VMC   \n",
      "33525                   0.0              2.0               VMC   \n",
      "34513                   0.0              3.0               VMC   \n",
      "34847                   0.0              2.0               VMC   \n",
      "35076                   1.0              1.0               VMC   \n",
      "38187                   0.0              1.0               VMC   \n",
      "39138                   NaN              NaN               VMC   \n",
      "40556                   0.0              2.0               VMC   \n",
      "43728                   0.0              0.0               VMC   \n",
      "45738                   0.0              1.0               VMC   \n",
      "48463                   0.0              0.0               VMC   \n",
      "51386                   NaN              NaN               VMC   \n",
      "52842                   NaN             31.0               VMC   \n",
      "56311                   NaN            209.0               VMC   \n",
      "57380                   NaN              NaN               VMC   \n",
      "58650                   NaN            187.0               VMC   \n",
      "62369                   NaN              4.0               VMC   \n",
      "63043                   NaN              NaN               VMC   \n",
      "63296                   NaN              2.0               VMC   \n",
      "77987                   0.0              0.0               NaN   \n",
      "87549                   0.0              2.0               VMC   \n",
      "88387                   0.0              2.0               VMC   \n",
      "88528                   0.0              0.0               NaN   \n",
      "\n",
      "                                           Report.Status  \n",
      "1371                                      Probable Cause  \n",
      "3082                                      Probable Cause  \n",
      "4761                                      Probable Cause  \n",
      "5120                                      Probable Cause  \n",
      "6512                                      Probable Cause  \n",
      "7941                                      Probable Cause  \n",
      "8661                                      Probable Cause  \n",
      "13532                                     Probable Cause  \n",
      "14421                                     Probable Cause  \n",
      "19820                                     Probable Cause  \n",
      "21077                                     Probable Cause  \n",
      "22453                                     Probable Cause  \n",
      "22626                                     Probable Cause  \n",
      "24878                                     Probable Cause  \n",
      "25927                                     Probable Cause  \n",
      "26868                                     Probable Cause  \n",
      "27496                                     Probable Cause  \n",
      "27811                                     Probable Cause  \n",
      "28706                                     Probable Cause  \n",
      "30247                                     Probable Cause  \n",
      "31502                                     Probable Cause  \n",
      "33525                                     Probable Cause  \n",
      "34513                                     Probable Cause  \n",
      "34847                                     Probable Cause  \n",
      "35076                                     Probable Cause  \n",
      "38187                                     Probable Cause  \n",
      "39138                                            Foreign  \n",
      "40556                                     Probable Cause  \n",
      "43728                                     Probable Cause  \n",
      "45738                                     Probable Cause  \n",
      "48463                                     Probable Cause  \n",
      "51386                                     Probable Cause  \n",
      "52842                                     Probable Cause  \n",
      "56311                                     Probable Cause  \n",
      "57380                                     Probable Cause  \n",
      "58650                                     Probable Cause  \n",
      "62369                                     Probable Cause  \n",
      "63043                                     Probable Cause  \n",
      "63296                                     Probable Cause  \n",
      "77987                                                NaN  \n",
      "87549  The failure of the pilot of the second aircraf...  \n",
      "88387                                                NaN  \n",
      "88528                                                NaN  \n"
     ]
    }
   ],
   "source": [
    "#Check for duplicates\n",
    "duplicates = aviation_df[aviation_df.duplicated()]\n",
    "#Print out the duplicates\n",
    "print(duplicates)"
   ]
  },
  {
   "cell_type": "code",
   "execution_count": 24,
   "id": "840fdec2-d029-49a3-a858-a6ee591feb6d",
   "metadata": {},
   "outputs": [],
   "source": [
    "aviation_df.drop_duplicates(inplace=True)"
   ]
  },
  {
   "cell_type": "markdown",
   "id": "f2ce73ac-f909-4a40-b798-8fea2733e2c2",
   "metadata": {},
   "source": [
    "Once again, it's been made clear our data set has duplicates which we removed given we don't need them\n",
    "to proceed."
   ]
  },
  {
   "cell_type": "markdown",
   "id": "8002d86d-0f56-4458-958f-304fe980c630",
   "metadata": {},
   "source": [
    "Let's use a code to confirm our dataset no longer has duplicates."
   ]
  },
  {
   "cell_type": "code",
   "execution_count": 11,
   "id": "36a58ab6-1ffd-4aec-907b-b604f1366727",
   "metadata": {},
   "outputs": [
    {
     "name": "stdout",
     "output_type": "stream",
     "text": [
      "Empty DataFrame\n",
      "Columns: [Event.Date, Location, Injury.Severity, Aircraft.damage, Make, Model, Number.of.Engines, Purpose.of.flight, Total.Fatal.Injuries, Total.Serious.Injuries, Total.Minor.Injuries, Total.Uninjured, Weather.Condition, Report.Status]\n",
      "Index: []\n"
     ]
    }
   ],
   "source": [
    "#Check for duplicates\n",
    "duplicates = aviation_df[aviation_df.duplicated()]\n",
    "#Print out the duplicates\n",
    "print(duplicates)"
   ]
  },
  {
   "cell_type": "markdown",
   "id": "280f7d1b-9c4d-4c72-a156-9f305255b0f4",
   "metadata": {},
   "source": [
    "Perfect! We have removed the duplicates from our data set.\n",
    "\n",
    "Now let's proceed and make sure our data is valid and makes sense.\n",
    "\n",
    "* Validity"
   ]
  },
  {
   "cell_type": "markdown",
   "id": "18a1d03d-3739-4249-8deb-7e123c623570",
   "metadata": {},
   "source": [
    "Let's find out the types of data in our data set"
   ]
  },
  {
   "cell_type": "code",
   "execution_count": 12,
   "id": "322ea85d-533b-4059-982f-c95f0c558847",
   "metadata": {},
   "outputs": [
    {
     "name": "stdout",
     "output_type": "stream",
     "text": [
      "Event.Date                 object\n",
      "Location                   object\n",
      "Injury.Severity            object\n",
      "Aircraft.damage            object\n",
      "Make                       object\n",
      "Model                      object\n",
      "Number.of.Engines         float64\n",
      "Purpose.of.flight          object\n",
      "Total.Fatal.Injuries      float64\n",
      "Total.Serious.Injuries    float64\n",
      "Total.Minor.Injuries      float64\n",
      "Total.Uninjured           float64\n",
      "Weather.Condition          object\n",
      "Report.Status              object\n",
      "dtype: object\n"
     ]
    }
   ],
   "source": [
    "# Check data types of columns\n",
    "print(aviation_df.dtypes)"
   ]
  },
  {
   "cell_type": "code",
   "execution_count": 13,
   "id": "e631d160-6509-4194-9a4b-df526da27e48",
   "metadata": {},
   "outputs": [
    {
     "name": "stdout",
     "output_type": "stream",
     "text": [
      "       Number.of.Engines  Total.Fatal.Injuries  Total.Serious.Injuries  \\\n",
      "count       82766.000000          77450.000000            76346.000000   \n",
      "mean            1.146485              0.647799                0.279910   \n",
      "std             0.446389              5.487234                1.544334   \n",
      "min             0.000000              0.000000                0.000000   \n",
      "25%             1.000000              0.000000                0.000000   \n",
      "50%             1.000000              0.000000                0.000000   \n",
      "75%             1.000000              0.000000                0.000000   \n",
      "max             8.000000            349.000000              161.000000   \n",
      "\n",
      "       Total.Minor.Injuries  Total.Uninjured  \n",
      "count          76923.000000     82939.000000  \n",
      "mean               0.357084         5.310264  \n",
      "std                2.235962        27.842619  \n",
      "min                0.000000         0.000000  \n",
      "25%                0.000000         0.000000  \n",
      "50%                0.000000         1.000000  \n",
      "75%                0.000000         2.000000  \n",
      "max              380.000000       699.000000  \n"
     ]
    }
   ],
   "source": [
    "# Check for outliers in numerical columns\n",
    "print(aviation_df.describe())"
   ]
  },
  {
   "cell_type": "code",
   "execution_count": 31,
   "id": "3c57f25c-142e-470a-8037-da68694bbda6",
   "metadata": {},
   "outputs": [],
   "source": [
    "#Let's fill the null numerical values with the mean\n",
    "numeric_columns = aviation_df.select_dtypes(include=['number']).columns\n",
    "for column in numeric_columns:\n",
    "    mean = aviation_df[column].mean()\n",
    "    aviation_df[column] = aviation_df[column].fillna(mean)"
   ]
  },
  {
   "cell_type": "code",
   "execution_count": 32,
   "id": "dd303cfe-742f-4452-95e9-e838420048c5",
   "metadata": {},
   "outputs": [],
   "source": [
    "#Let's fill the null non numerical values with a placeholder\n",
    "# Define the placeholder value\n",
    "placeholder = \"Placeholder_Value\"\n",
    "\n",
    "# Replace objects with the placeholder\n",
    "object_columns = aviation_df.select_dtypes(include=['object']).columns\n",
    "for column in object_columns:\n",
    "    aviation_df[column] = aviation_df[column].fillna(placeholder)"
   ]
  },
  {
   "cell_type": "code",
   "execution_count": null,
   "id": "0c1b3d64-43a3-4342-b2ca-ebbed26682d3",
   "metadata": {},
   "outputs": [],
   "source": []
  },
  {
   "cell_type": "markdown",
   "id": "cf125949-69aa-4766-8101-dbd12c80dd64",
   "metadata": {},
   "source": [
    "***So far so good, we now know the state of our data and how valid it is.\n",
    "Now let's ensure our data is uniform and is in good structure***"
   ]
  },
  {
   "cell_type": "markdown",
   "id": "6cd54ef2-cf79-4aab-9ce1-46aee61745d8",
   "metadata": {},
   "source": [
    "Let's identify the outliers using z score"
   ]
  },
  {
   "cell_type": "code",
   "execution_count": 20,
   "id": "eb8ffb36-5e6b-4283-ac4d-405c29e9299b",
   "metadata": {},
   "outputs": [
    {
     "name": "stdout",
     "output_type": "stream",
     "text": [
      "Original DataFrame:\n",
      "   column1  column2\n",
      "0       10        1\n",
      "1       20        2\n",
      "2       30        3\n",
      "3     1000        4\n",
      "4       50      100\n",
      "\n",
      "Z-scores:\n",
      "    column1   column2\n",
      "0 -0.544672 -0.538285\n",
      "1 -0.518980 -0.512652\n",
      "2 -0.493288 -0.487019\n",
      "3  1.998845 -0.461387\n",
      "4 -0.441904  1.999343\n",
      "\n",
      "Outliers:\n",
      "0    False\n",
      "1    False\n",
      "2    False\n",
      "3    False\n",
      "4    False\n",
      "dtype: bool\n",
      "\n",
      "Cleaned DataFrame:\n",
      "   column1  column2\n",
      "0       10        1\n",
      "1       20        2\n",
      "2       30        3\n",
      "3     1000        4\n",
      "4       50      100\n"
     ]
    }
   ],
   "source": [
    "import pandas as pd\n",
    "import numpy as np\n",
    "from scipy import stats\n",
    "\n",
    "# Using aviation_df as your DataFrame\n",
    "# Create an example DataFrame\n",
    "aviation_df = pd.DataFrame({\n",
    "    'column1': [10, 20, 30, 1000, 50],\n",
    "    'column2': [1, 2, 3, 4, 100]\n",
    "})\n",
    "\n",
    "# Calculate z-scores for numerical columns\n",
    "z_scores = stats.zscore(aviation_df.select_dtypes(include='number'))\n",
    "\n",
    "# Define a threshold for identifying outliers\n",
    "threshold = 3\n",
    "\n",
    "# Identify outliers\n",
    "outliers = (np.abs(z_scores) > threshold).any(axis=1)\n",
    "\n",
    "# Remove outliers from the DataFrame\n",
    "aviation_df_clean = aviation_df[~outliers]\n",
    "\n",
    "print(\"Original DataFrame:\")\n",
    "print(aviation_df)\n",
    "\n",
    "print(\"\\nZ-scores:\")\n",
    "print(z_scores)\n",
    "\n",
    "print(\"\\nOutliers:\")\n",
    "print(outliers)\n",
    "\n",
    "print(\"\\nCleaned DataFrame:\")\n",
    "print(aviation_df_clean)\n"
   ]
  },
  {
   "cell_type": "code",
   "execution_count": 26,
   "id": "e583b054-8da7-4090-835d-a933d8908a40",
   "metadata": {},
   "outputs": [],
   "source": [
    "#Let's drop the outliers\n",
    "aviation_df_clean = aviation_df_clean[~outliers]"
   ]
  },
  {
   "cell_type": "markdown",
   "id": "ab00fc4f-e441-49b6-a1fc-96f310f1e27e",
   "metadata": {},
   "source": [
    "***Great! Let's move on to data analysis***"
   ]
  },
  {
   "cell_type": "markdown",
   "id": "a3e9431c-d1a6-437b-b897-5b34b262f270",
   "metadata": {},
   "source": [
    "# Data Analysis"
   ]
  },
  {
   "cell_type": "markdown",
   "id": "cbda5fb8-b17c-41dd-b288-08f445985bae",
   "metadata": {},
   "source": [
    "**In this section of the notebook, we will carry out 3 types of Analysis;**\n",
    "* Univariate analysis\n",
    "* Bivariate analysis \n",
    "* Multivariate analysis\n",
    "  \n",
    "This will be done for both categorical and numerical values"
   ]
  },
  {
   "cell_type": "markdown",
   "id": "ecb28d2d-a754-452c-92b6-4353d1f55fd7",
   "metadata": {},
   "source": [
    "*Univariate Analysis*"
   ]
  },
  {
   "cell_type": "code",
   "execution_count": 5,
   "id": "92a039ba-df27-4cb8-a1b8-e624af3c0928",
   "metadata": {},
   "outputs": [
    {
     "ename": "SyntaxError",
     "evalue": "unterminated string literal (detected at line 12) (1443530280.py, line 12)",
     "output_type": "error",
     "traceback": [
      "\u001b[1;36m  Cell \u001b[1;32mIn[5], line 12\u001b[1;36m\u001b[0m\n\u001b[1;33m    plt.title(f'Distribution of '{'Make'}')\u001b[0m\n\u001b[1;37m                                         ^\u001b[0m\n\u001b[1;31mSyntaxError\u001b[0m\u001b[1;31m:\u001b[0m unterminated string literal (detected at line 12)\n"
     ]
    }
   ],
   "source": [
    "import matplotlib.pyplot as plt\n",
    "import seaborn as sns\n",
    "\n",
    "# Univariate Analysis for Categorical Variables\n",
    "categorical_columns = aviation_df.select_dtypes(include=['object']).columns\n",
    "\n",
    "for col in categorical_columns:\n",
    "    print(f\"Column: {'Make'}\")\n",
    "    print(aviation_df['Make'].value_counts())\n",
    "    plt.figure(figsize=(10, 4))\n",
    "    sns.countplot(y=aviation_df['Make'], order=aviation_df['Make'].value_counts().index)\n",
    "    plt.title(f'Distribution of '{'Make'}')\n",
    "    plt.show()\n",
    "\n",
    "# Univariate Analysis for Numerical Variables\n",
    "numerical_columns = aviation_df.select_dtypes(include=['number']).columns\n",
    "\n",
    "for col in numerical_columns:\n",
    "    print(f\"Column: {'Total_Uninjured'}\")\n",
    "    print(aviation_df['Total_Uninjured'].describe())\n",
    "    plt.figure(figsize=(10, 4))\n",
    "    sns.histplot(aviation_df['Total_Uninjured'], kde=True)\n",
    "    plt.title(f'Distribution of {'Total_Uninjured'}')\n",
    "    plt.show()\n",
    "    plt.figure(figsize=(10, 4))\n",
    "    sns.boxplot(x=aviation_df['Total_Uninjured'])\n",
    "    plt.title(f'Boxplot of {'Total_Uninjured'}')\n",
    "    plt.show()"
   ]
  },
  {
   "cell_type": "markdown",
   "id": "e52dd5bd-fc50-4079-8c67-bf8ab5e9d197",
   "metadata": {},
   "source": [
    "\n",
    "*Bivariate Analysis*\n"
   ]
  },
  {
   "cell_type": "code",
   "execution_count": 66,
   "id": "a481edb7-9638-4e58-b342-e7b2f920b885",
   "metadata": {},
   "outputs": [],
   "source": [
    "import seaborn as sns\n",
    "import matplotlib.pyplot as plt\n",
    "\n",
    "# Bivariate Analysis for Categorical vs Numerical Variables\n",
    "def cat_num_bivariate_analysis(Country, Total_Serious_Injuries):\n",
    "    plt.figure(figsize=(10, 6))\n",
    "    sns.boxplot(x=cat_var, y=num_var, data=data)\n",
    "    plt.title(f'{cat_var} vs {num_var}')\n",
    "    plt.xlabel(cat_var)\n",
    "    plt.ylabel(num_var)\n",
    "    plt.show()\n",
    "\n",
    "# Bivariate Analysis for Categorical vs Categorical Variables\n",
    "def cat_cat_bivariate_analysis(Country, Injury_Severity):\n",
    "    plt.figure(figsize=(10, 6))\n",
    "    sns.countplot(x=cat_var1, hue=cat_var2, data=data)\n",
    "    plt.title(f'{cat_var1} vs {cat_var2}')\n",
    "    plt.xlabel(cat_var1)\n",
    "    plt.ylabel('Count')\n",
    "    plt.legend(title=cat_var2)\n",
    "    plt.show()\n",
    "\n"
   ]
  },
  {
   "cell_type": "markdown",
   "id": "1d0c2080-ca6f-4e55-b972-9e85290cce33",
   "metadata": {},
   "source": [
    "# Conclusions and Recommendations"
   ]
  },
  {
   "cell_type": "markdown",
   "id": "921f339b-626b-4176-9e43-606d1214ff17",
   "metadata": {},
   "source": [
    "Excellent. Armed with that information, a general approach to summarizing observations and suggesting potential solutions based on aerial datasets is as follows:\n",
    "\n",
    "**Observations:**\n",
    "1. **Accident/Incident Pattern** Analyze data to identify recurring patterns or trends in aircraft accidents or incidents. Look for common factors such as weather conditions, pilot error and mechanical problems.\n",
    "   \n",
    "2. **Flight Schedule Analysis** Study flight schedules to identify peak air traffic times, busiest routes, and patterns that may cause congestion or delays.\n",
    "\n",
    "3. **Aircraft Characteristics** Review data on aircraft type and characteristics. Identify trends in reliability, maintenance issues, or safety performance of different aircraft models.\n",
    "\n",
    "4. **Safety Precautions** Review the safety precautions implemented by airlines and aviation authorities. Efficiency is evaluated based on accident/disaster rates before and after implementation.\n",
    "\n",
    "5. **Compliance.** Assess compliance with aviation regulations and standards. Find out where compliance is lacking or where improvements can be made.\n",
    "\n",
    "**Possible solutions:**\n",
    "1. **Enhanced Training and Procedures:** Provides additional training to pilots and flight crews to address common causes of accidents or incidents. Implement standardized procedures to improve safety protocols.\n",
    "   \n",
    "2. **Improved Maintenance Protocols:** Implement more stringent maintenance schedules and procedures to ensure aircraft are properly maintained and operated safely.\n",
    "\n",
    "3. **Technology Upgrades** Invest in technology upgrades to aircraft systems, air traffic control and safety equipment to improve overall safety and efficiency.\n",
    "\n",
    "4. **Air Traffic Management Solutions** Develop strategies to manage air traffic flows more efficiently, including route optimization, airspace redesign, and improved communication systems.\n",
    "\n",
    "5. **Regulatory Reform:** Advocate for regulatory reform to address identified safety issues and improve overall aviation safety standards.\n",
    "\n",
    "***These are some general observations and possible solutions based on the AviationData data set.***"
   ]
  },
  {
   "cell_type": "markdown",
   "id": "ad997a16-2c2b-4f80-81ee-59836ffdd738",
   "metadata": {},
   "source": [
    "With that, we can present our findings knowing informed and conclusive decisions can be made."
   ]
  },
  {
   "cell_type": "code",
   "execution_count": null,
   "id": "7488fb7b-248e-4077-9c02-c950a6e3c0f0",
   "metadata": {},
   "outputs": [],
   "source": []
  }
 ],
 "metadata": {
  "kernelspec": {
   "display_name": "Python (learn-env)",
   "language": "python",
   "name": "learn-env"
  },
  "language_info": {
   "codemirror_mode": {
    "name": "ipython",
    "version": 3
   },
   "file_extension": ".py",
   "mimetype": "text/x-python",
   "name": "python",
   "nbconvert_exporter": "python",
   "pygments_lexer": "ipython3",
   "version": "3.10.14"
  }
 },
 "nbformat": 4,
 "nbformat_minor": 5
}
